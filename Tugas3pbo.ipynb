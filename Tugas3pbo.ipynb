{
  "nbformat": 4,
  "nbformat_minor": 0,
  "metadata": {
    "colab": {
      "provenance": [],
      "authorship_tag": "ABX9TyMdk9RdJPb4w24je0qsX+Ly",
      "include_colab_link": true
    },
    "kernelspec": {
      "name": "python3",
      "display_name": "Python 3"
    },
    "language_info": {
      "name": "python"
    }
  },
  "cells": [
    {
      "cell_type": "markdown",
      "metadata": {
        "id": "view-in-github",
        "colab_type": "text"
      },
      "source": [
        "<a href=\"https://colab.research.google.com/github/wildanmukhall/Tugas_PBO3/blob/main/Tugas3pbo.ipynb\" target=\"_parent\"><img src=\"https://colab.research.google.com/assets/colab-badge.svg\" alt=\"Open In Colab\"/></a>"
      ]
    },
    {
      "cell_type": "code",
      "execution_count": null,
      "metadata": {
        "id": "5CuLy_Ijot13"
      },
      "outputs": [],
      "source": [
        "#class variable\n",
        "class Person:\n",
        "\n",
        "  # the ini method or constructor\n",
        "  def __init__(self, rambut, warna):\n",
        "    #instace Variable\n",
        "    self.rambut = rambut\n",
        "    self.warna = warna\n",
        "\n",
        "# object\n",
        "Budi = Person(\"ikal\", \"hitam\")\n",
        "Michail = Person(\"lurus\", \"pirang\")\n",
        "\n",
        "print('Budi deatils:')\n",
        "print('rambut:', Budi.rambut)\n",
        "print('warna rambut:', Budi.warna)\n",
        "\n",
        "print('\\nMichail details:')\n",
        "print('rambut:', Michail.rambut)\n",
        "print('warna rambut:', Michail.warna)"
      ]
    }
  ]
}