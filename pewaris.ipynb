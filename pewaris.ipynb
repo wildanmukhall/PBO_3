{
  "nbformat": 4,
  "nbformat_minor": 0,
  "metadata": {
    "colab": {
      "provenance": [],
      "authorship_tag": "ABX9TyPuDbmgV3hrFUSEQLD5WZ8c",
      "include_colab_link": true
    },
    "kernelspec": {
      "name": "python3",
      "display_name": "Python 3"
    },
    "language_info": {
      "name": "python"
    }
  },
  "cells": [
    {
      "cell_type": "markdown",
      "metadata": {
        "id": "view-in-github",
        "colab_type": "text"
      },
      "source": [
        "<a href=\"https://colab.research.google.com/github/wildanmukhall/Tugas_PBO3/blob/main/pewaris.ipynb\" target=\"_parent\"><img src=\"https://colab.research.google.com/assets/colab-badge.svg\" alt=\"Open In Colab\"/></a>"
      ]
    },
    {
      "cell_type": "code",
      "execution_count": 1,
      "metadata": {
        "colab": {
          "base_uri": "https://localhost:8080/"
        },
        "id": "5CuLy_Ijot13",
        "outputId": "2e0e7f2c-425c-48c0-fa6b-9f1deea24298"
      },
      "outputs": [
        {
          "output_type": "stream",
          "name": "stdout",
          "text": [
            "{'name': 'singa', 'type': 'karnovora', 'color': 'hitam', 'number_of_foot': 4, 'number_of_tail': 1}\n",
            "{'name': 'pari', 'type': 'karnivoraa', 'color': 'biru', 'number_of_tail': 1}\n",
            "animal is moving\n",
            "animal is moving\n"
          ]
        }
      ],
      "source": [
        "#make class animal\n",
        "class animal:\n",
        "\tdef __init__(self, name, type, color):\n",
        "\t\tself.name = name\n",
        "\t\tself.type = type\n",
        "\t\tself.color = color\n",
        "\n",
        "#make methods\n",
        "\tdef start(self):\n",
        "\t\tprint(\"animal is moving\")\n",
        "\tdef stop(self):\n",
        "\t\tprint(\"animal is stopping\")\n",
        "#define sub class and make class land (inheritance from animal)\n",
        "# the super() to call method __init__() from class animal\n",
        "class land(animal):\n",
        "\tdef __init__(self, name, type, color, number_of_foot, number_of_tail):\n",
        "\t\tsuper().__init__(name, type, color)\n",
        "\t\tself.number_of_foot= number_of_foot\n",
        "\t\tself.number_of_tail=number_of_tail\n",
        "\n",
        "#make class sea (inheritance from animal)\n",
        "class sea(animal):\n",
        "\tdef __init__(self, name, type, color, number_of_tail):\n",
        "\t\tsuper().__init__(name, type, color)\n",
        "\t\tself.number_of_tail=number_of_tail\n",
        "\n",
        "#make object\n",
        "land = land(\"singa\", \"karnivora\", \"hitam\", 4, 1)\n",
        "sea = sea(\"pari\", \"karnivora\", \"biru\", 1)\n",
        "#print attribute dan method\n",
        "print(land.__dict__)\n",
        "print(sea.__dict__)\n",
        "land.start()\n",
        "sea.start()\n",
        ""
      ]
    }
  ]
}